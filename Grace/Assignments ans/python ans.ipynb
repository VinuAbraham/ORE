{
 "cells": [
  {
   "cell_type": "code",
   "execution_count": 2,
   "metadata": {},
   "outputs": [],
   "source": [
    "import numpy as np"
   ]
  },
  {
   "cell_type": "code",
   "execution_count": 3,
   "metadata": {},
   "outputs": [
    {
     "name": "stdout",
     "output_type": "stream",
     "text": [
      "1.19.1\n"
     ]
    }
   ],
   "source": [
    "print(np.__version__)"
   ]
  },
  {
   "cell_type": "code",
   "execution_count": 4,
   "metadata": {},
   "outputs": [],
   "source": [
    "a=np.zeros(10)"
   ]
  },
  {
   "cell_type": "code",
   "execution_count": 5,
   "metadata": {},
   "outputs": [
    {
     "name": "stdout",
     "output_type": "stream",
     "text": [
      "Memory size:  80  Bytes\n"
     ]
    }
   ],
   "source": [
    "print(\"Memory size: \",a.size*a.itemsize,\" Bytes\")"
   ]
  },
  {
   "cell_type": "code",
   "execution_count": 6,
   "metadata": {},
   "outputs": [
    {
     "data": {
      "text/plain": [
       "array([[0, 1, 2],\n",
       "       [3, 4, 5],\n",
       "       [6, 7, 8]])"
      ]
     },
     "execution_count": 6,
     "metadata": {},
     "output_type": "execute_result"
    }
   ],
   "source": [
    "mt=np.arange(0,9).reshape(3,3)\n",
    "mt"
   ]
  },
  {
   "cell_type": "code",
   "execution_count": 7,
   "metadata": {},
   "outputs": [
    {
     "name": "stdout",
     "output_type": "stream",
     "text": [
      "[[0.22585801 0.84048469 0.78686601 0.69711085 0.85225284 0.46329713\n",
      "  0.70825336 0.36057643 0.15391317 0.15556669]\n",
      " [0.55320579 0.91048497 0.33616226 0.16353084 0.42668114 0.60829241\n",
      "  0.57209275 0.15468317 0.2845043  0.77308294]\n",
      " [0.06036671 0.15249488 0.09922797 0.85389598 0.36776568 0.98851891\n",
      "  0.78689342 0.49704383 0.98728659 0.8271437 ]\n",
      " [0.45624289 0.64555789 0.73311667 0.79560573 0.5959438  0.95725804\n",
      "  0.69599978 0.72990148 0.93225738 0.08439362]\n",
      " [0.0467574  0.73359713 0.09639822 0.20078227 0.72049341 0.97438648\n",
      "  0.56903046 0.74420317 0.63965148 0.03302704]\n",
      " [0.49140849 0.69870566 0.34083932 0.39515166 0.66447627 0.72279403\n",
      "  0.8773714  0.24627223 0.19827877 0.50052386]\n",
      " [0.00616313 0.68222809 0.12865474 0.41644646 0.26128659 0.95921805\n",
      "  0.04842438 0.44745232 0.79722616 0.75450745]\n",
      " [0.89087378 0.73886623 0.51859422 0.01031934 0.8747266  0.13619723\n",
      "  0.55233764 0.23049451 0.38104262 0.35475586]\n",
      " [0.73871754 0.69134334 0.72626505 0.08145528 0.63677249 0.15915726\n",
      "  0.21192047 0.21794112 0.74131555 0.1031442 ]\n",
      " [0.47154808 0.99735178 0.12698833 0.98265999 0.1915605  0.7644583\n",
      "  0.07811699 0.90045837 0.58564484 0.36108057]]\n",
      "Minimum values: 0.00616312997242785\n",
      "Maximum values: 0.9973517791467931\n"
     ]
    }
   ],
   "source": [
    "x=np.random.random((10,10))\n",
    "print(x)\n",
    "xmin,xmax=x.min(),x.max()\n",
    "print(\"Minimum values:\",xmin)\n",
    "print(\"Maximum values:\",xmax)"
   ]
  },
  {
   "cell_type": "code",
   "execution_count": 8,
   "metadata": {},
   "outputs": [
    {
     "name": "stdout",
     "output_type": "stream",
     "text": [
      "[[1. 1. 1. 1. 1. 1. 1.]\n",
      " [1. 1. 1. 1. 1. 1. 1.]\n",
      " [1. 1. 1. 1. 1. 1. 1.]\n",
      " [1. 1. 1. 1. 1. 1. 1.]\n",
      " [1. 1. 1. 1. 1. 1. 1.]\n",
      " [1. 1. 1. 1. 1. 1. 1.]\n",
      " [1. 1. 1. 1. 1. 1. 1.]]\n"
     ]
    },
    {
     "data": {
      "text/plain": [
       "array([[1., 1., 1., 1., 1., 1., 1.],\n",
       "       [1., 0., 0., 0., 0., 0., 1.],\n",
       "       [1., 0., 0., 0., 0., 0., 1.],\n",
       "       [1., 0., 0., 0., 0., 0., 1.],\n",
       "       [1., 0., 0., 0., 0., 0., 1.],\n",
       "       [1., 0., 0., 0., 0., 0., 1.],\n",
       "       [1., 1., 1., 1., 1., 1., 1.]])"
      ]
     },
     "execution_count": 8,
     "metadata": {},
     "output_type": "execute_result"
    }
   ],
   "source": [
    "two_d=np.ones((7,7))\n",
    "print(two_d)\n",
    "two_d[1:-1,1:-1]=0\n",
    "two_d"
   ]
  },
  {
   "cell_type": "code",
   "execution_count": 9,
   "metadata": {},
   "outputs": [
    {
     "data": {
      "text/plain": [
       "array([[0, 0, 0, 0, 0],\n",
       "       [1, 0, 0, 0, 0],\n",
       "       [0, 2, 0, 0, 0],\n",
       "       [0, 0, 3, 0, 0],\n",
       "       [0, 0, 0, 4, 0]])"
      ]
     },
     "execution_count": 9,
     "metadata": {},
     "output_type": "execute_result"
    }
   ],
   "source": [
    "dia=np.diag(1+np.arange(4),k=-1)\n",
    "dia"
   ]
  },
  {
   "cell_type": "code",
   "execution_count": 10,
   "metadata": {},
   "outputs": [
    {
     "data": {
      "text/plain": [
       "array([[0, 1, 0, 1, 0, 1, 0, 1],\n",
       "       [1, 0, 1, 0, 1, 0, 1, 0],\n",
       "       [0, 1, 0, 1, 0, 1, 0, 1],\n",
       "       [1, 0, 1, 0, 1, 0, 1, 0],\n",
       "       [0, 1, 0, 1, 0, 1, 0, 1],\n",
       "       [1, 0, 1, 0, 1, 0, 1, 0],\n",
       "       [0, 1, 0, 1, 0, 1, 0, 1],\n",
       "       [1, 0, 1, 0, 1, 0, 1, 0]])"
      ]
     },
     "execution_count": 10,
     "metadata": {},
     "output_type": "execute_result"
    }
   ],
   "source": [
    "l=np.zeros((8,8),dtype=int)\n",
    "l[1::2,::2]=1\n",
    "l[::2,1::2]=1\n",
    "l"
   ]
  },
  {
   "cell_type": "code",
   "execution_count": 11,
   "metadata": {},
   "outputs": [
    {
     "name": "stdout",
     "output_type": "stream",
     "text": [
      "(1, 5, 4)\n"
     ]
    }
   ],
   "source": [
    "print(np.unravel_index(100,(6,7,8)))"
   ]
  },
  {
   "cell_type": "code",
   "execution_count": null,
   "metadata": {},
   "outputs": [],
   "source": []
  }
 ],
 "metadata": {
  "kernelspec": {
   "display_name": "Python 3",
   "language": "python",
   "name": "python3"
  },
  "language_info": {
   "codemirror_mode": {
    "name": "ipython",
    "version": 3
   },
   "file_extension": ".py",
   "mimetype": "text/x-python",
   "name": "python",
   "nbconvert_exporter": "python",
   "pygments_lexer": "ipython3",
   "version": "3.8.5"
  }
 },
 "nbformat": 4,
 "nbformat_minor": 4
}
