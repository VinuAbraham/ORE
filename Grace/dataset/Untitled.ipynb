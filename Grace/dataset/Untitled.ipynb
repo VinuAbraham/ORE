{
 "cells": [
  {
   "cell_type": "code",
   "execution_count": 2,
   "metadata": {},
   "outputs": [
    {
     "data": {
      "text/html": [
       "<div>\n",
       "<style scoped>\n",
       "    .dataframe tbody tr th:only-of-type {\n",
       "        vertical-align: middle;\n",
       "    }\n",
       "\n",
       "    .dataframe tbody tr th {\n",
       "        vertical-align: top;\n",
       "    }\n",
       "\n",
       "    .dataframe thead th {\n",
       "        text-align: right;\n",
       "    }\n",
       "</style>\n",
       "<table border=\"1\" class=\"dataframe\">\n",
       "  <thead>\n",
       "    <tr style=\"text-align: right;\">\n",
       "      <th></th>\n",
       "      <th>Id</th>\n",
       "      <th>MSSubClass</th>\n",
       "      <th>MSZoning</th>\n",
       "      <th>LotFrontage</th>\n",
       "      <th>LotArea</th>\n",
       "      <th>Street</th>\n",
       "      <th>Alley</th>\n",
       "      <th>LotShape</th>\n",
       "      <th>LandContour</th>\n",
       "      <th>Utilities</th>\n",
       "      <th>...</th>\n",
       "      <th>PoolArea</th>\n",
       "      <th>PoolQC</th>\n",
       "      <th>Fence</th>\n",
       "      <th>MiscFeature</th>\n",
       "      <th>MiscVal</th>\n",
       "      <th>MoSold</th>\n",
       "      <th>YrSold</th>\n",
       "      <th>SaleType</th>\n",
       "      <th>SaleCondition</th>\n",
       "      <th>SalePrice</th>\n",
       "    </tr>\n",
       "  </thead>\n",
       "  <tbody>\n",
       "    <tr>\n",
       "      <th>0</th>\n",
       "      <td>1</td>\n",
       "      <td>60</td>\n",
       "      <td>RL</td>\n",
       "      <td>65.0</td>\n",
       "      <td>8450</td>\n",
       "      <td>Pave</td>\n",
       "      <td>NaN</td>\n",
       "      <td>Reg</td>\n",
       "      <td>Lvl</td>\n",
       "      <td>AllPub</td>\n",
       "      <td>...</td>\n",
       "      <td>0</td>\n",
       "      <td>NaN</td>\n",
       "      <td>NaN</td>\n",
       "      <td>NaN</td>\n",
       "      <td>0</td>\n",
       "      <td>2</td>\n",
       "      <td>2008</td>\n",
       "      <td>WD</td>\n",
       "      <td>Normal</td>\n",
       "      <td>208500</td>\n",
       "    </tr>\n",
       "    <tr>\n",
       "      <th>1</th>\n",
       "      <td>2</td>\n",
       "      <td>20</td>\n",
       "      <td>RL</td>\n",
       "      <td>80.0</td>\n",
       "      <td>9600</td>\n",
       "      <td>Pave</td>\n",
       "      <td>NaN</td>\n",
       "      <td>Reg</td>\n",
       "      <td>Lvl</td>\n",
       "      <td>AllPub</td>\n",
       "      <td>...</td>\n",
       "      <td>0</td>\n",
       "      <td>NaN</td>\n",
       "      <td>NaN</td>\n",
       "      <td>NaN</td>\n",
       "      <td>0</td>\n",
       "      <td>5</td>\n",
       "      <td>2007</td>\n",
       "      <td>WD</td>\n",
       "      <td>Normal</td>\n",
       "      <td>181500</td>\n",
       "    </tr>\n",
       "    <tr>\n",
       "      <th>2</th>\n",
       "      <td>3</td>\n",
       "      <td>60</td>\n",
       "      <td>RL</td>\n",
       "      <td>68.0</td>\n",
       "      <td>11250</td>\n",
       "      <td>Pave</td>\n",
       "      <td>NaN</td>\n",
       "      <td>IR1</td>\n",
       "      <td>Lvl</td>\n",
       "      <td>AllPub</td>\n",
       "      <td>...</td>\n",
       "      <td>0</td>\n",
       "      <td>NaN</td>\n",
       "      <td>NaN</td>\n",
       "      <td>NaN</td>\n",
       "      <td>0</td>\n",
       "      <td>9</td>\n",
       "      <td>2008</td>\n",
       "      <td>WD</td>\n",
       "      <td>Normal</td>\n",
       "      <td>223500</td>\n",
       "    </tr>\n",
       "    <tr>\n",
       "      <th>3</th>\n",
       "      <td>4</td>\n",
       "      <td>70</td>\n",
       "      <td>RL</td>\n",
       "      <td>60.0</td>\n",
       "      <td>9550</td>\n",
       "      <td>Pave</td>\n",
       "      <td>NaN</td>\n",
       "      <td>IR1</td>\n",
       "      <td>Lvl</td>\n",
       "      <td>AllPub</td>\n",
       "      <td>...</td>\n",
       "      <td>0</td>\n",
       "      <td>NaN</td>\n",
       "      <td>NaN</td>\n",
       "      <td>NaN</td>\n",
       "      <td>0</td>\n",
       "      <td>2</td>\n",
       "      <td>2006</td>\n",
       "      <td>WD</td>\n",
       "      <td>Abnorml</td>\n",
       "      <td>140000</td>\n",
       "    </tr>\n",
       "    <tr>\n",
       "      <th>4</th>\n",
       "      <td>5</td>\n",
       "      <td>60</td>\n",
       "      <td>RL</td>\n",
       "      <td>84.0</td>\n",
       "      <td>14260</td>\n",
       "      <td>Pave</td>\n",
       "      <td>NaN</td>\n",
       "      <td>IR1</td>\n",
       "      <td>Lvl</td>\n",
       "      <td>AllPub</td>\n",
       "      <td>...</td>\n",
       "      <td>0</td>\n",
       "      <td>NaN</td>\n",
       "      <td>NaN</td>\n",
       "      <td>NaN</td>\n",
       "      <td>0</td>\n",
       "      <td>12</td>\n",
       "      <td>2008</td>\n",
       "      <td>WD</td>\n",
       "      <td>Normal</td>\n",
       "      <td>250000</td>\n",
       "    </tr>\n",
       "  </tbody>\n",
       "</table>\n",
       "<p>5 rows × 81 columns</p>\n",
       "</div>"
      ],
      "text/plain": [
       "   Id  MSSubClass MSZoning  LotFrontage  LotArea Street Alley LotShape  \\\n",
       "0   1          60       RL         65.0     8450   Pave   NaN      Reg   \n",
       "1   2          20       RL         80.0     9600   Pave   NaN      Reg   \n",
       "2   3          60       RL         68.0    11250   Pave   NaN      IR1   \n",
       "3   4          70       RL         60.0     9550   Pave   NaN      IR1   \n",
       "4   5          60       RL         84.0    14260   Pave   NaN      IR1   \n",
       "\n",
       "  LandContour Utilities  ... PoolArea PoolQC Fence MiscFeature MiscVal MoSold  \\\n",
       "0         Lvl    AllPub  ...        0    NaN   NaN         NaN       0      2   \n",
       "1         Lvl    AllPub  ...        0    NaN   NaN         NaN       0      5   \n",
       "2         Lvl    AllPub  ...        0    NaN   NaN         NaN       0      9   \n",
       "3         Lvl    AllPub  ...        0    NaN   NaN         NaN       0      2   \n",
       "4         Lvl    AllPub  ...        0    NaN   NaN         NaN       0     12   \n",
       "\n",
       "  YrSold  SaleType  SaleCondition  SalePrice  \n",
       "0   2008        WD         Normal     208500  \n",
       "1   2007        WD         Normal     181500  \n",
       "2   2008        WD         Normal     223500  \n",
       "3   2006        WD        Abnorml     140000  \n",
       "4   2008        WD         Normal     250000  \n",
       "\n",
       "[5 rows x 81 columns]"
      ]
     },
     "execution_count": 2,
     "metadata": {},
     "output_type": "execute_result"
    }
   ],
   "source": [
    "import pandas as pd\n",
    "df=pd.read_csv(\"train.csv\")\n",
    "df.head()\n",
    "\n"
   ]
  },
  {
   "cell_type": "code",
   "execution_count": 5,
   "metadata": {},
   "outputs": [],
   "source": [
    "x=df['GrLivArea']"
   ]
  },
  {
   "cell_type": "code",
   "execution_count": 7,
   "metadata": {},
   "outputs": [],
   "source": [
    "y=df['SalePrice']"
   ]
  },
  {
   "cell_type": "code",
   "execution_count": 8,
   "metadata": {},
   "outputs": [],
   "source": [
    "import matplotlib.pyplot as plt"
   ]
  },
  {
   "cell_type": "code",
   "execution_count": 9,
   "metadata": {},
   "outputs": [
    {
     "data": {
      "image/png": "[encoded data removed]",
      "text/plain": [
       "<Figure size 432x288 with 1 Axes>"
      ]
     },
     "metadata": {
      "needs_background": "light"
     },
     "output_type": "display_data"
    }
   ],
   "source": [
    "plt.hist(x)\n",
    "plt.show()"
   ]
  },
  {
   "cell_type": "code",
   "execution_count": 10,
   "metadata": {},
   "outputs": [],
   "source": [
    "x=(x-x.mean())/x.std()"
   ]
  },
  {
   "cell_type": "code",
   "execution_count": 11,
   "metadata": {},
   "outputs": [
    {
     "data": {
      "image/png": "[encoded data removed]",
      "text/plain": [
       "<Figure size 432x288 with 1 Axes>"
      ]
     },
     "metadata": {
      "needs_background": "light"
     },
     "output_type": "display_data"
    }
   ],
   "source": [
    "plt.hist(x)\n",
    "plt.show()"
   ]
  },
  {
   "cell_type": "markdown",
   "metadata": {},
   "source": [
    " h<sub>θ</sub>(x) =θ<sub>0</sub>+θ<sub>1</sub>x<sub>1</sub>\n",
    "J(θ) =1/2∑<sup>m</sup><sub>i=1</sub>(h<sub>θ</sub>(x<sup>(i)</sup>)−y<sup>(i)</sup>)<sup>2</sup>\n",
    "θ<sub>j</sub>:=θ<sub>j</sub>+α(y<sup>(i)</sup>−h<sub>θ</sub>(x<sup>(i)</sup>))x<sup>(i)</sup><sub>j</sub>\n"
   ]
  },
  {
   "cell_type": "code",
   "execution_count": 13,
   "metadata": {},
   "outputs": [],
   "source": [
    "import numpy as np\n",
    "x = np.c_[np.ones(x.shape[0]),x]"
   ]
  },
  {
   "cell_type": "code",
   "execution_count": 14,
   "metadata": {},
   "outputs": [],
   "source": [
    "#GRADIENT DESCENT\n",
    "\n",
    "alpha = 0.01 #Step size\n",
    "iterations = 2000 #No. of iterations\n",
    "m = y.size #No. of data points\n",
    "np.random.seed(123) #Set the seed\n",
    "theta = np.random.rand(2) #Pick some random values to start with"
   ]
  },
  {
   "cell_type": "code",
   "execution_count": 19,
   "metadata": {},
   "outputs": [],
   "source": [
    "#GRADIENT DESCENT\n",
    "def gradient_descent(x, y, theta, iterations, alpha):\n",
    "    past_costs = []\n",
    "    past_thetas = [theta]\n",
    "    for i in range(iterations):\n",
    "        prediction = np.dot(x, theta)\n",
    "        error = prediction - y\n",
    "        cost = 1/(2*m) * np.dot(error, error)\n",
    "        past_costs.append(cost)\n",
    "        theta = theta - (alpha * (1/m) * np.dot(x.T, error))\n",
    "        past_thetas.append(theta)\n",
    "    \n",
    "    \n",
    "        \n",
    "    return past_thetas, past_costs"
   ]
  },
  {
   "cell_type": "code",
   "execution_count": 16,
   "metadata": {},
   "outputs": [
    {
     "data": {
      "text/plain": [
       "array([[ 1.        ,  0.37020659],\n",
       "       [ 1.        , -0.48234664],\n",
       "       [ 1.        ,  0.51483616],\n",
       "       ...,\n",
       "       [ 1.        ,  1.56910958],\n",
       "       [ 1.        , -0.83250243],\n",
       "       [ 1.        , -0.49376477]])"
      ]
     },
     "execution_count": 16,
     "metadata": {},
     "output_type": "execute_result"
    }
   ],
   "source": [
    "x"
   ]
  },
  {
   "cell_type": "code",
   "execution_count": 17,
   "metadata": {},
   "outputs": [
    {
     "data": {
      "text/plain": [
       "array([0.69646919, 0.28613933])"
      ]
     },
     "execution_count": 17,
     "metadata": {},
     "output_type": "execute_result"
    }
   ],
   "source": [
    "theta"
   ]
  },
  {
   "cell_type": "code",
   "execution_count": 21,
   "metadata": {},
   "outputs": [],
   "source": [
    "past_thetas, past_costs = gradient_descent(x, y, theta, iterations, alpha)\n",
    "theta = past_thetas[-1]"
   ]
  },
  {
   "cell_type": "code",
   "execution_count": 22,
   "metadata": {},
   "outputs": [
    {
     "data": {
      "text/plain": [
       "array([180921.19589041,  56294.90210563])"
      ]
     },
     "execution_count": 22,
     "metadata": {},
     "output_type": "execute_result"
    }
   ],
   "source": [
    "theta"
   ]
  },
  {
   "cell_type": "code",
   "execution_count": 23,
   "metadata": {},
   "outputs": [
    {
     "name": "stdout",
     "output_type": "stream",
     "text": [
      "Gradient Descent: 180921.20, 56294.90\n"
     ]
    }
   ],
   "source": [
    "#Print the results...\n",
    "print(\"Gradient Descent: {:.2f}, {:.2f}\".format(theta[0], theta[1]))"
   ]
  },
  {
   "cell_type": "code",
   "execution_count": 26,
   "metadata": {},
   "outputs": [
    {
     "data": {
      "image/png": "[encoded data removed]",
      "text/plain": [
       "<Figure size 432x288 with 1 Axes>"
      ]
     },
     "metadata": {
      "needs_background": "light"
     },
     "output_type": "display_data"
    }
   ],
   "source": [
    "plt.title('Cost Function J')\n",
    "plt.xlabel('No. of iterations')\n",
    "plt.ylabel('Cost')\n",
    "plt.plot(past_costs)\n",
    "plt.show()"
   ]
  },
  {
   "cell_type": "code",
   "execution_count": 35,
   "metadata": {},
   "outputs": [
    {
     "name": "stderr",
     "output_type": "stream",
     "text": [
      "MovieWriter imagemagick unavailable; using Pillow instead.\n"
     ]
    }
   ],
   "source": [
    "import matplotlib.animation as animation\n",
    "#Animation\n",
    "\n",
    "#Set the plot up,\n",
    "fig = plt.figure()\n",
    "ax = plt.axes()\n",
    "plt.title('Sale Price vs Living Area')\n",
    "plt.xlabel('Living Area in square feet (normalised)')\n",
    "plt.ylabel('Sale Price ($)')\n",
    "plt.scatter(x[:,1], y, color='red')\n",
    "line, = ax.plot([], [], lw=2)\n",
    "annotation = ax.text(-1, 700000, '')\n",
    "annotation.set_animated(True)\n",
    "plt.close()\n",
    "\n",
    "#Generate the animation data,\n",
    "def init():\n",
    "    line.set_data([], [])\n",
    "    annotation.set_text('')\n",
    "    return line, annotation\n",
    "\n",
    "# animation function.  This is called sequentially\n",
    "def animate(i):\n",
    "    x = np.linspace(-5, 20, 1000)\n",
    "    y = past_thetas[i][1]*x + past_thetas[i][0]\n",
    "    line.set_data(x, y)\n",
    "    annotation.set_text('Cost = %.2f e10' % (past_costs[i]/10000000000))\n",
    "    return line, annotation\n",
    "\n",
    "anim = animation.FuncAnimation(fig, animate, init_func=init,\n",
    "                               frames=300, interval=0, blit=True)\n",
    "\n",
    "anim.save('animation.gif', writer='imagemagick', fps = 30)"
   ]
  },
  {
   "cell_type": "code",
   "execution_count": 36,
   "metadata": {},
   "outputs": [
    {
     "data": {
      "text/html": [
       "<img src=\"data:image/gif;base64,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\" type=\"gif\" />"
      ],
      "text/plain": [
       "<IPython.core.display.HTML object>"
      ]
     },
     "execution_count": 36,
     "metadata": {},
     "output_type": "execute_result"
    }
   ],
   "source": [
    "import io\n",
    "import base64\n",
    "from IPython.display import HTML\n",
    "\n",
    "filename = 'animation.gif'\n",
    "\n",
    "video = io.open(filename, 'r+b').read()\n",
    "encoded = base64.b64encode(video)\n",
    "HTML(data='''<img src=\"data:image/gif;base64,{0}\" type=\"gif\" />'''.format(encoded.decode('ascii')))"
   ]
  },
  {
   "cell_type": "code",
   "execution_count": null,
   "metadata": {},
   "outputs": [],
   "source": []
  }
 ],
 "metadata": {
  "kernelspec": {
   "display_name": "Python 3",
   "language": "python",
   "name": "python3"
  },
  "language_info": {
   "codemirror_mode": {
    "name": "ipython",
    "version": 3
   },
   "file_extension": ".py",
   "mimetype": "text/x-python",
   "name": "python",
   "nbconvert_exporter": "python",
   "pygments_lexer": "ipython3",
   "version": "3.8.5"
  }
 },
 "nbformat": 4,
 "nbformat_minor": 4
}
