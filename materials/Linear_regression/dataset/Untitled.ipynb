{
 "cells": [
  {
   "cell_type": "code",
   "execution_count": 1,
   "metadata": {},
   "outputs": [
    {
     "name": "stdout",
     "output_type": "stream",
     "text": [
      "Cloning into 'ORE'...\n",
      "remote: Enumerating objects: 2409, done.\u001b[K\n",
      "error: RPC failed; curl 56 GnuTLS recv error (-54): Error in the pull function.\n",
      "fatal: The remote end hung up unexpectedly\n",
      "fatal: early EOF\n",
      "fatal: index-pack failed\n"
     ]
    }
   ],
   "source": [
    "!git clone https://github.com/VinuAbraham/ORE.git"
   ]
  },
  {
   "cell_type": "code",
   "execution_count": 2,
   "metadata": {},
   "outputs": [
    {
     "name": "stdout",
     "output_type": "stream",
     "text": [
      "Cloning into 'ORE'...\n",
      "remote: Enumerating objects: 2409, done.\u001b[K\n",
      "remote: Total 2409 (delta 0), reused 0 (delta 0), pack-reused 2409\u001b[K\n",
      "Receiving objects: 100% (2409/2409), 96.24 MiB | 1.77 MiB/s, done.\n",
      "Resolving deltas: 100% (683/683), done.\n"
     ]
    }
   ],
   "source": [
    "!git clone https://github.com/VinuAbraham/ORE.git"
   ]
  },
  {
   "cell_type": "code",
   "execution_count": null,
   "metadata": {},
   "outputs": [],
   "source": []
  }
 ],
 "metadata": {
  "kernelspec": {
   "display_name": "Python 3",
   "language": "python",
   "name": "python3"
  },
  "language_info": {
   "codemirror_mode": {
    "name": "ipython",
    "version": 3
   },
   "file_extension": ".py",
   "mimetype": "text/x-python",
   "name": "python",
   "nbconvert_exporter": "python",
   "pygments_lexer": "ipython3",
   "version": "3.8.5"
  }
 },
 "nbformat": 4,
 "nbformat_minor": 4
}
